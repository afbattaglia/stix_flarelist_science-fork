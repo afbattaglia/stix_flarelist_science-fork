{
 "cells": [
  {
   "cell_type": "code",
   "execution_count": 1,
   "id": "685943e2-509c-49b0-a61d-34ab31d70b0b",
   "metadata": {},
   "outputs": [
    {
     "name": "stderr",
     "output_type": "stream",
     "text": [
      "/home/afbattaglia/anaconda3/envs/stix_flare_list/lib/python3.11/site-packages/tqdm/auto.py:21: TqdmWarning: IProgress not found. Please update jupyter and ipywidgets. See https://ipywidgets.readthedocs.io/en/stable/user_install.html\n",
      "  from .autonotebook import tqdm as notebook_tqdm\n"
     ]
    }
   ],
   "source": [
    "import pandas as pd\n",
    "import matplotlib.pyplot as plt \n",
    "from astropy import units as u \n",
    "import astrospice\n",
    "from astropy.time import Time\n",
    "from sunpy.coordinates import frames\n",
    "from sunpy.net import Fido, attrs as a\n",
    "from stixpy.net.client import STIXClient\n",
    "import matplotlib.pyplot as plt\n",
    "import numpy as np "
   ]
  },
  {
   "cell_type": "code",
   "execution_count": 2,
   "id": "cd08dd67-628e-46bb-9a68-151af8e2c713",
   "metadata": {},
   "outputs": [],
   "source": [
    "#stix_big_flares = pd.read_csv(\"stix_big_flare_list_20211101_20230424_with_files.csv\")\n",
    "stix_big_flares = pd.read_csv(\"/home/afbattaglia/Documents/ETHZ/PhD/Codes/Python/test_flare-list/stix_big_flare_list_20210507_20210507_with_files.csv\")"
   ]
  },
  {
   "cell_type": "code",
   "execution_count": 3,
   "id": "b42fd2e2-b8cb-45f6-8efb-daa83622939b",
   "metadata": {},
   "outputs": [
    {
     "data": {
      "text/html": [
       "<div>\n",
       "<style scoped>\n",
       "    .dataframe tbody tr th:only-of-type {\n",
       "        vertical-align: middle;\n",
       "    }\n",
       "\n",
       "    .dataframe tbody tr th {\n",
       "        vertical-align: top;\n",
       "    }\n",
       "\n",
       "    .dataframe thead th {\n",
       "        text-align: right;\n",
       "    }\n",
       "</style>\n",
       "<table border=\"1\" class=\"dataframe\">\n",
       "  <thead>\n",
       "    <tr style=\"text-align: right;\">\n",
       "      <th></th>\n",
       "      <th>flare_id</th>\n",
       "      <th>duration</th>\n",
       "      <th>att_in</th>\n",
       "      <th>peak_UTC</th>\n",
       "      <th>LC0_BKG</th>\n",
       "      <th>_id</th>\n",
       "      <th>GOES_class</th>\n",
       "      <th>GOES_flux</th>\n",
       "      <th>CFL_X_arcsec</th>\n",
       "      <th>CFL_Y_arcsec</th>\n",
       "      <th>...</th>\n",
       "      <th>LC1_PEAK_COUNTS_4S</th>\n",
       "      <th>LC1_BKG_COUNTS_4S</th>\n",
       "      <th>LC2_PEAK_COUNTS_4S</th>\n",
       "      <th>LC2_BKG_COUNTS_4S</th>\n",
       "      <th>LC3_PEAK_COUNTS_4S</th>\n",
       "      <th>LC3_BKG_COUNTS_4S</th>\n",
       "      <th>LC4_PEAK_COUNTS_4S</th>\n",
       "      <th>LC4_BKG_COUNTS_4S</th>\n",
       "      <th>number_available_files</th>\n",
       "      <th>available_file_request_IDs</th>\n",
       "    </tr>\n",
       "  </thead>\n",
       "  <tbody>\n",
       "    <tr>\n",
       "      <th>0</th>\n",
       "      <td>2105070340</td>\n",
       "      <td>276</td>\n",
       "      <td>False</td>\n",
       "      <td>2021-05-07 03:40:27.202</td>\n",
       "      <td>246.006539</td>\n",
       "      <td>1156</td>\n",
       "      <td>B6.0</td>\n",
       "      <td>6.040419e-07</td>\n",
       "      <td>NaN</td>\n",
       "      <td>NaN</td>\n",
       "      <td>...</td>\n",
       "      <td>167</td>\n",
       "      <td>49.0</td>\n",
       "      <td>151</td>\n",
       "      <td>67.0</td>\n",
       "      <td>927</td>\n",
       "      <td>863.0</td>\n",
       "      <td>495</td>\n",
       "      <td>463.0</td>\n",
       "      <td>1</td>\n",
       "      <td>[2105070033]</td>\n",
       "    </tr>\n",
       "    <tr>\n",
       "      <th>1</th>\n",
       "      <td>2105071900</td>\n",
       "      <td>4648</td>\n",
       "      <td>False</td>\n",
       "      <td>2021-05-07 19:00:15.193</td>\n",
       "      <td>249.207937</td>\n",
       "      <td>1167</td>\n",
       "      <td>M3.9</td>\n",
       "      <td>3.908444e-05</td>\n",
       "      <td>NaN</td>\n",
       "      <td>NaN</td>\n",
       "      <td>...</td>\n",
       "      <td>34815</td>\n",
       "      <td>49.0</td>\n",
       "      <td>3199</td>\n",
       "      <td>67.0</td>\n",
       "      <td>1471</td>\n",
       "      <td>863.0</td>\n",
       "      <td>543</td>\n",
       "      <td>463.0</td>\n",
       "      <td>5</td>\n",
       "      <td>[2105070020, 2105070036, 2105070034, 210507004...</td>\n",
       "    </tr>\n",
       "  </tbody>\n",
       "</table>\n",
       "<p>2 rows × 24 columns</p>\n",
       "</div>"
      ],
      "text/plain": [
       "     flare_id  duration  att_in                 peak_UTC     LC0_BKG   _id  \\\n",
       "0  2105070340       276   False  2021-05-07 03:40:27.202  246.006539  1156   \n",
       "1  2105071900      4648   False  2021-05-07 19:00:15.193  249.207937  1167   \n",
       "\n",
       "  GOES_class     GOES_flux  CFL_X_arcsec  CFL_Y_arcsec  ...  \\\n",
       "0       B6.0  6.040419e-07           NaN           NaN  ...   \n",
       "1       M3.9  3.908444e-05           NaN           NaN  ...   \n",
       "\n",
       "  LC1_PEAK_COUNTS_4S LC1_BKG_COUNTS_4S  LC2_PEAK_COUNTS_4S  LC2_BKG_COUNTS_4S  \\\n",
       "0                167              49.0                 151               67.0   \n",
       "1              34815              49.0                3199               67.0   \n",
       "\n",
       "   LC3_PEAK_COUNTS_4S  LC3_BKG_COUNTS_4S  LC4_PEAK_COUNTS_4S  \\\n",
       "0                 927              863.0                 495   \n",
       "1                1471              863.0                 543   \n",
       "\n",
       "   LC4_BKG_COUNTS_4S  number_available_files  \\\n",
       "0              463.0                       1   \n",
       "1              463.0                       5   \n",
       "\n",
       "                          available_file_request_IDs  \n",
       "0                                       [2105070033]  \n",
       "1  [2105070020, 2105070036, 2105070034, 210507004...  \n",
       "\n",
       "[2 rows x 24 columns]"
      ]
     },
     "execution_count": 3,
     "metadata": {},
     "output_type": "execute_result"
    }
   ],
   "source": [
    "stix_big_flares.head()"
   ]
  },
  {
   "cell_type": "code",
   "execution_count": 4,
   "id": "ff24bc69-2c01-4a01-a299-555ff2442ac0",
   "metadata": {},
   "outputs": [],
   "source": [
    "flare_peak_times = Time.strptime(stix_big_flares[\"peak_UTC\"].values.astype(str), format_string=\"%Y-%m-%d %H:%M:%S.%f\")"
   ]
  },
  {
   "cell_type": "code",
   "execution_count": 5,
   "id": "11f07a64-6ea1-4c61-8a65-95515ce9fbe0",
   "metadata": {},
   "outputs": [
    {
     "name": "stderr",
     "output_type": "stream",
     "text": [
      "/home/afbattaglia/anaconda3/envs/stix_flare_list/lib/python3.11/site-packages/erfa/core.py:154: ErfaWarning: ERFA function \"dtf2d\" yielded 1 of \"dubious year (Note 6)\"\n",
      "  warnings.warn('ERFA function \"{}\" yielded {}'.format(func_name, wmsg),\n",
      "Files Downloaded: 100%|██████████| 1/1 [00:00<00:00, 12.65file/s]\n"
     ]
    }
   ],
   "source": [
    "kernals = astrospice.registry.get_kernels(\"solar orbiter\", \"predict\")"
   ]
  },
  {
   "cell_type": "code",
   "execution_count": 6,
   "id": "62f1a46c-826d-43d9-a6fd-ff4c729ee46e",
   "metadata": {},
   "outputs": [],
   "source": [
    "solo_coords = astrospice.generate_coords(\"SOLAR ORBITER\", flare_peak_times).heliographic_stonyhurst\n",
    "earth_coords = astrospice.generate_coords(\"earth\", flare_peak_times).heliographic_stonyhurst"
   ]
  },
  {
   "cell_type": "code",
   "execution_count": 7,
   "id": "19b83b68-3854-4525-a3aa-320465f04869",
   "metadata": {},
   "outputs": [],
   "source": [
    "stix_big_flares[\"solo_lat\"] = solo_coords.lat.value\n",
    "stix_big_flares[\"solo_lon\"] = solo_coords.lon.value\n",
    "stix_big_flares[\"solo_AU_distance\"] = solo_coords.radius.to(u.AU)"
   ]
  },
  {
   "cell_type": "code",
   "execution_count": 8,
   "id": "99add5ac-2e80-4255-8ec2-7a83fdd8d935",
   "metadata": {},
   "outputs": [
    {
     "data": {
      "text/plain": [
       "Index(['flare_id', 'duration', 'att_in', 'peak_UTC', 'LC0_BKG', '_id',\n",
       "       'GOES_class', 'GOES_flux', 'CFL_X_arcsec', 'CFL_Y_arcsec', 'start_UTC',\n",
       "       'end_UTC', 'LC0_PEAK_COUNTS_4S', 'LC0_BKG_COUNTS_4S',\n",
       "       'LC1_PEAK_COUNTS_4S', 'LC1_BKG_COUNTS_4S', 'LC2_PEAK_COUNTS_4S',\n",
       "       'LC2_BKG_COUNTS_4S', 'LC3_PEAK_COUNTS_4S', 'LC3_BKG_COUNTS_4S',\n",
       "       'LC4_PEAK_COUNTS_4S', 'LC4_BKG_COUNTS_4S', 'number_available_files',\n",
       "       'available_file_request_IDs', 'solo_lat', 'solo_lon',\n",
       "       'solo_AU_distance'],\n",
       "      dtype='object')"
      ]
     },
     "execution_count": 8,
     "metadata": {},
     "output_type": "execute_result"
    }
   ],
   "source": [
    "stix_big_flares.keys()"
   ]
  },
  {
   "cell_type": "code",
   "execution_count": 9,
   "id": "6cabca7c-70c0-4607-876c-c159d96bd030",
   "metadata": {},
   "outputs": [],
   "source": [
    "stix_big_flares.rename(columns={'LC0_PEAK_COUNTS_4S': '4-10 keV', \n",
    "                                'LC1_PEAK_COUNTS_4S': \"10-15 keV\",\n",
    "                                'LC2_PEAK_COUNTS_4S': \"15-25 keV\", \n",
    "                                'LC3_PEAK_COUNTS_4S': \"25-50 keV\", \n",
    "                                'LC4_PEAK_COUNTS_4S': \"50-84 keV\"}, inplace=True)"
   ]
  },
  {
   "cell_type": "code",
   "execution_count": 10,
   "id": "21d14935-9e4c-4ec1-b0dc-0f66c1c8dc5d",
   "metadata": {},
   "outputs": [
    {
     "data": {
      "text/html": [
       "<div>\n",
       "<style scoped>\n",
       "    .dataframe tbody tr th:only-of-type {\n",
       "        vertical-align: middle;\n",
       "    }\n",
       "\n",
       "    .dataframe tbody tr th {\n",
       "        vertical-align: top;\n",
       "    }\n",
       "\n",
       "    .dataframe thead th {\n",
       "        text-align: right;\n",
       "    }\n",
       "</style>\n",
       "<table border=\"1\" class=\"dataframe\">\n",
       "  <thead>\n",
       "    <tr style=\"text-align: right;\">\n",
       "      <th></th>\n",
       "      <th>flare_id</th>\n",
       "      <th>duration</th>\n",
       "      <th>att_in</th>\n",
       "      <th>peak_UTC</th>\n",
       "      <th>LC0_BKG</th>\n",
       "      <th>_id</th>\n",
       "      <th>GOES_class</th>\n",
       "      <th>GOES_flux</th>\n",
       "      <th>CFL_X_arcsec</th>\n",
       "      <th>CFL_Y_arcsec</th>\n",
       "      <th>...</th>\n",
       "      <th>LC2_BKG_COUNTS_4S</th>\n",
       "      <th>25-50 keV</th>\n",
       "      <th>LC3_BKG_COUNTS_4S</th>\n",
       "      <th>50-84 keV</th>\n",
       "      <th>LC4_BKG_COUNTS_4S</th>\n",
       "      <th>number_available_files</th>\n",
       "      <th>available_file_request_IDs</th>\n",
       "      <th>solo_lat</th>\n",
       "      <th>solo_lon</th>\n",
       "      <th>solo_AU_distance</th>\n",
       "    </tr>\n",
       "  </thead>\n",
       "  <tbody>\n",
       "    <tr>\n",
       "      <th>0</th>\n",
       "      <td>2105070340</td>\n",
       "      <td>276</td>\n",
       "      <td>False</td>\n",
       "      <td>2021-05-07 03:40:27.202</td>\n",
       "      <td>246.006539</td>\n",
       "      <td>1156</td>\n",
       "      <td>B6.0</td>\n",
       "      <td>6.040419e-07</td>\n",
       "      <td>NaN</td>\n",
       "      <td>NaN</td>\n",
       "      <td>...</td>\n",
       "      <td>67.0</td>\n",
       "      <td>927</td>\n",
       "      <td>863.0</td>\n",
       "      <td>495</td>\n",
       "      <td>463.0</td>\n",
       "      <td>1</td>\n",
       "      <td>[2105070033]</td>\n",
       "      <td>-0.360447</td>\n",
       "      <td>-97.415114</td>\n",
       "      <td>0.915778</td>\n",
       "    </tr>\n",
       "    <tr>\n",
       "      <th>1</th>\n",
       "      <td>2105071900</td>\n",
       "      <td>4648</td>\n",
       "      <td>False</td>\n",
       "      <td>2021-05-07 19:00:15.193</td>\n",
       "      <td>249.207937</td>\n",
       "      <td>1167</td>\n",
       "      <td>M3.9</td>\n",
       "      <td>3.908444e-05</td>\n",
       "      <td>NaN</td>\n",
       "      <td>NaN</td>\n",
       "      <td>...</td>\n",
       "      <td>67.0</td>\n",
       "      <td>1471</td>\n",
       "      <td>863.0</td>\n",
       "      <td>543</td>\n",
       "      <td>463.0</td>\n",
       "      <td>5</td>\n",
       "      <td>[2105070020, 2105070036, 2105070034, 210507004...</td>\n",
       "      <td>-0.381317</td>\n",
       "      <td>-97.426606</td>\n",
       "      <td>0.917506</td>\n",
       "    </tr>\n",
       "  </tbody>\n",
       "</table>\n",
       "<p>2 rows × 27 columns</p>\n",
       "</div>"
      ],
      "text/plain": [
       "     flare_id  duration  att_in                 peak_UTC     LC0_BKG   _id  \\\n",
       "0  2105070340       276   False  2021-05-07 03:40:27.202  246.006539  1156   \n",
       "1  2105071900      4648   False  2021-05-07 19:00:15.193  249.207937  1167   \n",
       "\n",
       "  GOES_class     GOES_flux  CFL_X_arcsec  CFL_Y_arcsec  ... LC2_BKG_COUNTS_4S  \\\n",
       "0       B6.0  6.040419e-07           NaN           NaN  ...              67.0   \n",
       "1       M3.9  3.908444e-05           NaN           NaN  ...              67.0   \n",
       "\n",
       "  25-50 keV  LC3_BKG_COUNTS_4S  50-84 keV  LC4_BKG_COUNTS_4S  \\\n",
       "0       927              863.0        495              463.0   \n",
       "1      1471              863.0        543              463.0   \n",
       "\n",
       "   number_available_files                         available_file_request_IDs  \\\n",
       "0                       1                                       [2105070033]   \n",
       "1                       5  [2105070020, 2105070036, 2105070034, 210507004...   \n",
       "\n",
       "   solo_lat   solo_lon  solo_AU_distance  \n",
       "0 -0.360447 -97.415114          0.915778  \n",
       "1 -0.381317 -97.426606          0.917506  \n",
       "\n",
       "[2 rows x 27 columns]"
      ]
     },
     "execution_count": 10,
     "metadata": {},
     "output_type": "execute_result"
    }
   ],
   "source": [
    "stix_big_flares.head()"
   ]
  },
  {
   "cell_type": "code",
   "execution_count": 11,
   "id": "4399b83e-2b26-49e8-a956-231bebf1ffad",
   "metadata": {},
   "outputs": [],
   "source": [
    "columns = ['flare_id', 'att_in', 'GOES_flux', 'start_UTC', 'peak_UTC', 'end_UTC', '4-10 keV', '10-15 keV',\n",
    "           'number_available_files', 'available_file_request_IDs', 'solo_lat', 'solo_lon',\n",
    "           'solo_AU_distance']"
   ]
  },
  {
   "cell_type": "code",
   "execution_count": 12,
   "id": "09189a42-fe1f-4f18-9f3c-cb4ad80656e0",
   "metadata": {},
   "outputs": [],
   "source": [
    "stix_flares_tidy = stix_big_flares[columns]"
   ]
  },
  {
   "attachments": {},
   "cell_type": "markdown",
   "id": "a86651df-ee0a-406c-a74a-edf8c5c365f6",
   "metadata": {},
   "source": [
    "## Lets find all flares with pixel data"
   ]
  },
  {
   "cell_type": "code",
   "execution_count": 13,
   "id": "4661cd31-ebbb-4c63-80c0-6f87b97f94a3",
   "metadata": {},
   "outputs": [],
   "source": [
    "stix_flare_w_files = stix_flares_tidy[stix_flares_tidy[\"number_available_files\"]>=1]\n",
    "stix_flare_w_files.reset_index(inplace=True, drop=True)"
   ]
  },
  {
   "cell_type": "code",
   "execution_count": 14,
   "id": "a36bc2b4-3393-4a60-b4e4-879e4ce341da",
   "metadata": {},
   "outputs": [],
   "source": [
    "stix_flare_w_files.loc[:, \"Request IDs\"] = stix_flare_w_files[\"available_file_request_IDs\"].map(lambda x: x.strip('][').split(', ')[0])"
   ]
  },
  {
   "cell_type": "code",
   "execution_count": 15,
   "id": "acebce06-8c08-450e-8f0a-25b8aa661709",
   "metadata": {},
   "outputs": [
    {
     "data": {
      "text/html": [
       "<div>\n",
       "<style scoped>\n",
       "    .dataframe tbody tr th:only-of-type {\n",
       "        vertical-align: middle;\n",
       "    }\n",
       "\n",
       "    .dataframe tbody tr th {\n",
       "        vertical-align: top;\n",
       "    }\n",
       "\n",
       "    .dataframe thead th {\n",
       "        text-align: right;\n",
       "    }\n",
       "</style>\n",
       "<table border=\"1\" class=\"dataframe\">\n",
       "  <thead>\n",
       "    <tr style=\"text-align: right;\">\n",
       "      <th></th>\n",
       "      <th>flare_id</th>\n",
       "      <th>att_in</th>\n",
       "      <th>GOES_flux</th>\n",
       "      <th>start_UTC</th>\n",
       "      <th>peak_UTC</th>\n",
       "      <th>end_UTC</th>\n",
       "      <th>4-10 keV</th>\n",
       "      <th>10-15 keV</th>\n",
       "      <th>number_available_files</th>\n",
       "      <th>available_file_request_IDs</th>\n",
       "      <th>solo_lat</th>\n",
       "      <th>solo_lon</th>\n",
       "      <th>solo_AU_distance</th>\n",
       "      <th>Request IDs</th>\n",
       "    </tr>\n",
       "  </thead>\n",
       "  <tbody>\n",
       "    <tr>\n",
       "      <th>0</th>\n",
       "      <td>2105070340</td>\n",
       "      <td>False</td>\n",
       "      <td>6.040419e-07</td>\n",
       "      <td>2021-05-07T03:39:03.201</td>\n",
       "      <td>2021-05-07 03:40:27.202</td>\n",
       "      <td>2021-05-07T03:43:39.202</td>\n",
       "      <td>2175</td>\n",
       "      <td>167</td>\n",
       "      <td>1</td>\n",
       "      <td>[2105070033]</td>\n",
       "      <td>-0.360447</td>\n",
       "      <td>-97.415114</td>\n",
       "      <td>0.915778</td>\n",
       "      <td>2105070033</td>\n",
       "    </tr>\n",
       "    <tr>\n",
       "      <th>1</th>\n",
       "      <td>2105071900</td>\n",
       "      <td>False</td>\n",
       "      <td>3.908444e-05</td>\n",
       "      <td>2021-05-07T18:45:55.192</td>\n",
       "      <td>2021-05-07 19:00:15.193</td>\n",
       "      <td>2021-05-07T20:03:23.200</td>\n",
       "      <td>311295</td>\n",
       "      <td>34815</td>\n",
       "      <td>5</td>\n",
       "      <td>[2105070020, 2105070036, 2105070034, 210507004...</td>\n",
       "      <td>-0.381317</td>\n",
       "      <td>-97.426606</td>\n",
       "      <td>0.917506</td>\n",
       "      <td>2105070020</td>\n",
       "    </tr>\n",
       "  </tbody>\n",
       "</table>\n",
       "</div>"
      ],
      "text/plain": [
       "     flare_id  att_in     GOES_flux                start_UTC  \\\n",
       "0  2105070340   False  6.040419e-07  2021-05-07T03:39:03.201   \n",
       "1  2105071900   False  3.908444e-05  2021-05-07T18:45:55.192   \n",
       "\n",
       "                  peak_UTC                  end_UTC  4-10 keV  10-15 keV  \\\n",
       "0  2021-05-07 03:40:27.202  2021-05-07T03:43:39.202      2175        167   \n",
       "1  2021-05-07 19:00:15.193  2021-05-07T20:03:23.200    311295      34815   \n",
       "\n",
       "   number_available_files                         available_file_request_IDs  \\\n",
       "0                       1                                       [2105070033]   \n",
       "1                       5  [2105070020, 2105070036, 2105070034, 210507004...   \n",
       "\n",
       "   solo_lat   solo_lon  solo_AU_distance Request IDs  \n",
       "0 -0.360447 -97.415114          0.915778  2105070033  \n",
       "1 -0.381317 -97.426606          0.917506  2105070020  "
      ]
     },
     "execution_count": 15,
     "metadata": {},
     "output_type": "execute_result"
    }
   ],
   "source": [
    "stix_flare_w_files"
   ]
  },
  {
   "cell_type": "code",
   "execution_count": 60,
   "id": "1d12dae9-697e-409d-98c2-edbecf6bcae3",
   "metadata": {},
   "outputs": [],
   "source": [
    "def get_pixel_data(tstart, tend, request_id):\n",
    "    res = Fido.search(a.Time(tstart, tend), a.Instrument.stix, a.stix.DataProduct.sci_xray_cpd)\n",
    "    res = res[\"stix\"][list(res[\"stix\"][\"Request ID\"]) == request_id]\n",
    "    f = Fido.fetch(res, path=\"./pixel_data/{file}\")\n",
    "    if len(f)>0:\n",
    "        return \"./\"+f[0]\n",
    "    else:\n",
    "        return ''\n",
    "\n",
    "def get_aux_data(tstart, tend):\n",
    "    res = Fido.search(a.Time(tstart, tend), a.Instrument.stix, a.stix.DataProduct.aux_ephemeris)\n",
    "    f = Fido.fetch(res, path=\"./aux_data/{file}\")\n",
    "    if len(f)>0:\n",
    "        return \"./\"+f[0]\n",
    "    else:\n",
    "        return ''"
   ]
  },
  {
   "cell_type": "code",
   "execution_count": 27,
   "id": "775cc9a8-0aa3-4c2b-ad81-5cbdf9d70272",
   "metadata": {},
   "outputs": [
    {
     "data": {
      "text/html": [
       "<div>\n",
       "<style scoped>\n",
       "    .dataframe tbody tr th:only-of-type {\n",
       "        vertical-align: middle;\n",
       "    }\n",
       "\n",
       "    .dataframe tbody tr th {\n",
       "        vertical-align: top;\n",
       "    }\n",
       "\n",
       "    .dataframe thead th {\n",
       "        text-align: right;\n",
       "    }\n",
       "</style>\n",
       "<table border=\"1\" class=\"dataframe\">\n",
       "  <thead>\n",
       "    <tr style=\"text-align: right;\">\n",
       "      <th></th>\n",
       "      <th>flare_id</th>\n",
       "      <th>att_in</th>\n",
       "      <th>GOES_flux</th>\n",
       "      <th>start_UTC</th>\n",
       "      <th>peak_UTC</th>\n",
       "      <th>end_UTC</th>\n",
       "      <th>4-10 keV</th>\n",
       "      <th>10-15 keV</th>\n",
       "      <th>number_available_files</th>\n",
       "      <th>available_file_request_IDs</th>\n",
       "      <th>solo_lat</th>\n",
       "      <th>solo_lon</th>\n",
       "      <th>solo_AU_distance</th>\n",
       "      <th>Request IDs</th>\n",
       "      <th>aux_paths</th>\n",
       "      <th>pixel_paths</th>\n",
       "    </tr>\n",
       "  </thead>\n",
       "  <tbody>\n",
       "    <tr>\n",
       "      <th>0</th>\n",
       "      <td>2105070340</td>\n",
       "      <td>False</td>\n",
       "      <td>6.040419e-07</td>\n",
       "      <td>2021-05-07T03:39:03.201</td>\n",
       "      <td>2021-05-07 03:40:27.202</td>\n",
       "      <td>2021-05-07T03:43:39.202</td>\n",
       "      <td>2175</td>\n",
       "      <td>167</td>\n",
       "      <td>1</td>\n",
       "      <td>[2105070033]</td>\n",
       "      <td>-0.360447</td>\n",
       "      <td>-97.415114</td>\n",
       "      <td>0.915778</td>\n",
       "      <td>2105070033</td>\n",
       "      <td>./aux_data/solo_L2_stix-aux-ephemeris_20210507...</td>\n",
       "      <td></td>\n",
       "    </tr>\n",
       "    <tr>\n",
       "      <th>1</th>\n",
       "      <td>2105071900</td>\n",
       "      <td>False</td>\n",
       "      <td>3.908444e-05</td>\n",
       "      <td>2021-05-07T18:45:55.192</td>\n",
       "      <td>2021-05-07 19:00:15.193</td>\n",
       "      <td>2021-05-07T20:03:23.200</td>\n",
       "      <td>311295</td>\n",
       "      <td>34815</td>\n",
       "      <td>5</td>\n",
       "      <td>[2105070020, 2105070036, 2105070034, 210507004...</td>\n",
       "      <td>-0.381317</td>\n",
       "      <td>-97.426606</td>\n",
       "      <td>0.917506</td>\n",
       "      <td>2105070020</td>\n",
       "      <td>./aux_data/solo_L2_stix-aux-ephemeris_20210507...</td>\n",
       "      <td></td>\n",
       "    </tr>\n",
       "  </tbody>\n",
       "</table>\n",
       "</div>"
      ],
      "text/plain": [
       "     flare_id  att_in     GOES_flux                start_UTC  \\\n",
       "0  2105070340   False  6.040419e-07  2021-05-07T03:39:03.201   \n",
       "1  2105071900   False  3.908444e-05  2021-05-07T18:45:55.192   \n",
       "\n",
       "                  peak_UTC                  end_UTC  4-10 keV  10-15 keV  \\\n",
       "0  2021-05-07 03:40:27.202  2021-05-07T03:43:39.202      2175        167   \n",
       "1  2021-05-07 19:00:15.193  2021-05-07T20:03:23.200    311295      34815   \n",
       "\n",
       "   number_available_files                         available_file_request_IDs  \\\n",
       "0                       1                                       [2105070033]   \n",
       "1                       5  [2105070020, 2105070036, 2105070034, 210507004...   \n",
       "\n",
       "   solo_lat   solo_lon  solo_AU_distance Request IDs  \\\n",
       "0 -0.360447 -97.415114          0.915778  2105070033   \n",
       "1 -0.381317 -97.426606          0.917506  2105070020   \n",
       "\n",
       "                                           aux_paths pixel_paths  \n",
       "0  ./aux_data/solo_L2_stix-aux-ephemeris_20210507...              \n",
       "1  ./aux_data/solo_L2_stix-aux-ephemeris_20210507...              "
      ]
     },
     "execution_count": 27,
     "metadata": {},
     "output_type": "execute_result"
    }
   ],
   "source": [
    "stix_flare_w_files.head()"
   ]
  },
  {
   "cell_type": "code",
   "execution_count": 61,
   "id": "054e8666-e223-412b-bfd3-6c6dbd5030ae",
   "metadata": {},
   "outputs": [
    {
     "name": "stderr",
     "output_type": "stream",
     "text": [
      "Files Downloaded: 100%|██████████| 1/1 [00:00<00:00,  3.27file/s]\n",
      "Files Downloaded: 100%|██████████| 1/1 [00:00<00:00, 21.00file/s]\n",
      "Files Downloaded: 100%|██████████| 1/1 [00:03<00:00,  3.12s/file]\n",
      "Files Downloaded: 100%|██████████| 1/1 [00:00<00:00, 22.94file/s]\n"
     ]
    }
   ],
   "source": [
    "aux_paths = []\n",
    "pixel_paths = []\n",
    "for i in range(len(stix_flare_w_files)):\n",
    "    row = stix_flare_w_files.iloc[i]\n",
    "    tstart, tend, request_id = row[\"start_UTC\"], row[\"end_UTC\"], row[\"Request IDs\"]\n",
    "    pixel_paths.append(get_pixel_data(tstart, tend, request_id))\n",
    "    aux_paths.append(get_aux_data(tstart, tend))\n",
    "    "
   ]
  },
  {
   "cell_type": "code",
   "execution_count": 53,
   "id": "d7dfe37e",
   "metadata": {},
   "outputs": [
    {
     "data": {
      "text/plain": [
       "('2021-05-07T03:39:03.201', '2021-05-07T03:43:39.202', '2105070033', str)"
      ]
     },
     "execution_count": 53,
     "metadata": {},
     "output_type": "execute_result"
    }
   ],
   "source": [
    "row = stix_flare_w_files.iloc[0]\n",
    "tstart, tend, request_id = row[\"start_UTC\"], row[\"end_UTC\"], row[\"Request IDs\"]\n",
    "tstart, tend, request_id, type(request_id)"
   ]
  },
  {
   "cell_type": "code",
   "execution_count": 54,
   "id": "9acd8749",
   "metadata": {},
   "outputs": [
    {
     "data": {
      "text/plain": [
       "(<sunpy.net.fido_factory.UnifiedResponse object at 0x7f934857c6d0>\n",
       " Results from 1 Provider:\n",
       " \n",
       " 1 Results from the STIXClient:\n",
       " \n",
       "        Start Time               End Time        Instrument ... Ver Request ID\n",
       " ----------------------- ----------------------- ---------- ... --- ----------\n",
       " 2021-05-07 03:39:13.000 2021-05-07 03:42:13.000       STIX ... V01 2105070033\n",
       " ,\n",
       " <QueryResponseColumn name='Request ID' dtype='int64' length=1>\n",
       " 2105070033)"
      ]
     },
     "execution_count": 54,
     "metadata": {},
     "output_type": "execute_result"
    }
   ],
   "source": [
    "res = Fido.search(a.Time(tstart, tend), a.Instrument.stix, a.stix.DataProduct.sci_xray_cpd)\n",
    "res, res[\"stix\"][\"Request ID\"]"
   ]
  },
  {
   "cell_type": "code",
   "execution_count": 58,
   "id": "e070cdc2",
   "metadata": {},
   "outputs": [
    {
     "data": {
      "text/plain": [
       "[2105070033]"
      ]
     },
     "execution_count": 58,
     "metadata": {},
     "output_type": "execute_result"
    }
   ],
   "source": [
    "el = list(res[\"stix\"][\"Request ID\"])\n",
    "el"
   ]
  },
  {
   "cell_type": "code",
   "execution_count": 59,
   "id": "c42f838b",
   "metadata": {},
   "outputs": [
    {
     "data": {
      "text/html": [
       "<i>QueryResponseRow index=0</i>\n",
       "<table id=\"table140270515108688\">\n",
       "<thead><tr><th>Start Time</th><th>End Time</th><th>Instrument</th><th>Level</th><th>DataType</th><th>DataProduct</th><th>Ver</th><th>url</th><th>Request ID</th></tr></thead>\n",
       "<thead><tr><th>str23</th><th>str23</th><th>str4</th><th>str2</th><th>str3</th><th>str12</th><th>str3</th><th>str144</th><th>int64</th></tr></thead>\n",
       "<tr><td>2021-05-07 03:39:13.000</td><td>2021-05-07 03:42:13.000</td><td>STIX</td><td>L1</td><td>SCI</td><td>sci-xray-cpd</td><td>V01</td><td>http://pub099.cs.technik.fhnw.ch/data/fits/L1/2021/05/07/SCI/solo_L1_stix-sci-xray-cpd_20210507T033913-20210507T034213_V01_2105070033-54725.fits</td><td>2105070033</td></tr>\n",
       "</table>"
      ],
      "text/plain": [
       "<QueryResponseRow index=0>\n",
       "       Start Time               End Time        Instrument Level DataType DataProduct  Ver                                                                        url                                                                        Request ID\n",
       "         str23                   str23             str4     str2   str3      str12     str3                                                                      str144                                                                        int64   \n",
       "----------------------- ----------------------- ---------- ----- -------- ------------ ---- ------------------------------------------------------------------------------------------------------------------------------------------------ ----------\n",
       "2021-05-07 03:39:13.000 2021-05-07 03:42:13.000       STIX    L1      SCI sci-xray-cpd  V01 http://pub099.cs.technik.fhnw.ch/data/fits/L1/2021/05/07/SCI/solo_L1_stix-sci-xray-cpd_20210507T033913-20210507T034213_V01_2105070033-54725.fits 2105070033"
      ]
     },
     "execution_count": 59,
     "metadata": {},
     "output_type": "execute_result"
    }
   ],
   "source": [
    "res = res[\"stix\"][list(res[\"stix\"][\"Request ID\"]) == request_id]\n",
    "res"
   ]
  },
  {
   "cell_type": "code",
   "execution_count": null,
   "id": "2c941a86",
   "metadata": {},
   "outputs": [],
   "source": [
    "f = Fido.fetch(res, path=\"./pixel_data/{file}\")"
   ]
  },
  {
   "cell_type": "code",
   "execution_count": null,
   "id": "741f4ea0",
   "metadata": {},
   "outputs": [],
   "source": []
  },
  {
   "cell_type": "code",
   "execution_count": null,
   "id": "b4750256",
   "metadata": {},
   "outputs": [],
   "source": []
  },
  {
   "cell_type": "code",
   "execution_count": null,
   "id": "09846b20",
   "metadata": {},
   "outputs": [],
   "source": []
  },
  {
   "cell_type": "code",
   "execution_count": null,
   "id": "5261f09f",
   "metadata": {},
   "outputs": [],
   "source": []
  },
  {
   "cell_type": "code",
   "execution_count": null,
   "id": "fa4dd7f3",
   "metadata": {},
   "outputs": [],
   "source": []
  },
  {
   "cell_type": "code",
   "execution_count": 20,
   "id": "e7313a56-d883-4697-b17a-d0856a1b5770",
   "metadata": {},
   "outputs": [],
   "source": [
    "stix_flare_w_files[\"aux_paths\"] = aux_paths\n",
    "stix_flare_w_files[\"pixel_paths\"] = pixel_paths"
   ]
  },
  {
   "cell_type": "code",
   "execution_count": 21,
   "id": "2905dff5-c7db-410d-8190-ac0157b893cb",
   "metadata": {},
   "outputs": [],
   "source": [
    "stix_flare_w_files.to_csv(\"full_flarelist_with_paths.csv\", index=False, index_label=False)"
   ]
  },
  {
   "cell_type": "code",
   "execution_count": 22,
   "id": "c4d4a231-8d00-48e3-86bd-ad8f3a09991a",
   "metadata": {},
   "outputs": [],
   "source": [
    "import pandas as pd"
   ]
  },
  {
   "cell_type": "code",
   "execution_count": 23,
   "id": "7a6f6fcc-982f-4803-a9a8-a135b18b4910",
   "metadata": {},
   "outputs": [],
   "source": [
    "final_flares = pd.read_csv(\"full_flarelist_with_paths.csv\")"
   ]
  },
  {
   "cell_type": "code",
   "execution_count": 24,
   "id": "bc8a55fb-39f2-41d6-80ad-3ca7eb03d6d4",
   "metadata": {},
   "outputs": [
    {
     "data": {
      "text/html": [
       "<div>\n",
       "<style scoped>\n",
       "    .dataframe tbody tr th:only-of-type {\n",
       "        vertical-align: middle;\n",
       "    }\n",
       "\n",
       "    .dataframe tbody tr th {\n",
       "        vertical-align: top;\n",
       "    }\n",
       "\n",
       "    .dataframe thead th {\n",
       "        text-align: right;\n",
       "    }\n",
       "</style>\n",
       "<table border=\"1\" class=\"dataframe\">\n",
       "  <thead>\n",
       "    <tr style=\"text-align: right;\">\n",
       "      <th></th>\n",
       "      <th>flare_id</th>\n",
       "      <th>att_in</th>\n",
       "      <th>GOES_flux</th>\n",
       "      <th>start_UTC</th>\n",
       "      <th>peak_UTC</th>\n",
       "      <th>end_UTC</th>\n",
       "      <th>4-10 keV</th>\n",
       "      <th>10-15 keV</th>\n",
       "      <th>number_available_files</th>\n",
       "      <th>available_file_request_IDs</th>\n",
       "      <th>solo_lat</th>\n",
       "      <th>solo_lon</th>\n",
       "      <th>solo_AU_distance</th>\n",
       "      <th>Request IDs</th>\n",
       "      <th>aux_paths</th>\n",
       "      <th>pixel_paths</th>\n",
       "    </tr>\n",
       "  </thead>\n",
       "  <tbody>\n",
       "    <tr>\n",
       "      <th>0</th>\n",
       "      <td>2105070340</td>\n",
       "      <td>False</td>\n",
       "      <td>6.040419e-07</td>\n",
       "      <td>2021-05-07T03:39:03.201</td>\n",
       "      <td>2021-05-07 03:40:27.202</td>\n",
       "      <td>2021-05-07T03:43:39.202</td>\n",
       "      <td>2175</td>\n",
       "      <td>167</td>\n",
       "      <td>1</td>\n",
       "      <td>[2105070033]</td>\n",
       "      <td>-0.360447</td>\n",
       "      <td>-97.415114</td>\n",
       "      <td>0.915778</td>\n",
       "      <td>2105070033</td>\n",
       "      <td>./aux_data/solo_L2_stix-aux-ephemeris_20210507...</td>\n",
       "      <td>NaN</td>\n",
       "    </tr>\n",
       "    <tr>\n",
       "      <th>1</th>\n",
       "      <td>2105071900</td>\n",
       "      <td>False</td>\n",
       "      <td>3.908444e-05</td>\n",
       "      <td>2021-05-07T18:45:55.192</td>\n",
       "      <td>2021-05-07 19:00:15.193</td>\n",
       "      <td>2021-05-07T20:03:23.200</td>\n",
       "      <td>311295</td>\n",
       "      <td>34815</td>\n",
       "      <td>5</td>\n",
       "      <td>[2105070020, 2105070036, 2105070034, 210507004...</td>\n",
       "      <td>-0.381317</td>\n",
       "      <td>-97.426606</td>\n",
       "      <td>0.917506</td>\n",
       "      <td>2105070020</td>\n",
       "      <td>./aux_data/solo_L2_stix-aux-ephemeris_20210507...</td>\n",
       "      <td>NaN</td>\n",
       "    </tr>\n",
       "  </tbody>\n",
       "</table>\n",
       "</div>"
      ],
      "text/plain": [
       "     flare_id  att_in     GOES_flux                start_UTC  \\\n",
       "0  2105070340   False  6.040419e-07  2021-05-07T03:39:03.201   \n",
       "1  2105071900   False  3.908444e-05  2021-05-07T18:45:55.192   \n",
       "\n",
       "                  peak_UTC                  end_UTC  4-10 keV  10-15 keV  \\\n",
       "0  2021-05-07 03:40:27.202  2021-05-07T03:43:39.202      2175        167   \n",
       "1  2021-05-07 19:00:15.193  2021-05-07T20:03:23.200    311295      34815   \n",
       "\n",
       "   number_available_files                         available_file_request_IDs  \\\n",
       "0                       1                                       [2105070033]   \n",
       "1                       5  [2105070020, 2105070036, 2105070034, 210507004...   \n",
       "\n",
       "   solo_lat   solo_lon  solo_AU_distance  Request IDs  \\\n",
       "0 -0.360447 -97.415114          0.915778   2105070033   \n",
       "1 -0.381317 -97.426606          0.917506   2105070020   \n",
       "\n",
       "                                           aux_paths  pixel_paths  \n",
       "0  ./aux_data/solo_L2_stix-aux-ephemeris_20210507...          NaN  \n",
       "1  ./aux_data/solo_L2_stix-aux-ephemeris_20210507...          NaN  "
      ]
     },
     "execution_count": 24,
     "metadata": {},
     "output_type": "execute_result"
    }
   ],
   "source": [
    "final_flares.head()"
   ]
  },
  {
   "cell_type": "code",
   "execution_count": 25,
   "id": "a36fc362-ca83-4b52-b367-0b129170c6bb",
   "metadata": {},
   "outputs": [
    {
     "data": {
      "text/plain": [
       "(array([1., 0., 0., 0., 0., 0., 0., 0., 0., 1.]),\n",
       " array([3.33745926, 3.55303055, 3.76860184, 3.98417313, 4.19974441,\n",
       "        4.4153157 , 4.63088699, 4.84645828, 5.06202957, 5.27760086,\n",
       "        5.49317215]),\n",
       " <BarContainer object of 10 artists>)"
      ]
     },
     "execution_count": 25,
     "metadata": {},
     "output_type": "execute_result"
    },
    {
     "data": {
      "image/png": "[encoded data removed]",
      "text/plain": [
       "<Figure size 640x480 with 1 Axes>"
      ]
     },
     "metadata": {},
     "output_type": "display_data"
    }
   ],
   "source": [
    "plt.hist(np.log10(final_flares[\"4-10 keV\"]))"
   ]
  },
  {
   "cell_type": "code",
   "execution_count": null,
   "id": "a4def3ed-536b-4d77-88ca-9eccf0fe39ba",
   "metadata": {},
   "outputs": [],
   "source": []
  }
 ],
 "metadata": {
  "kernelspec": {
   "display_name": "Python 3 (ipykernel)",
   "language": "python",
   "name": "python3"
  },
  "language_info": {
   "codemirror_mode": {
    "name": "ipython",
    "version": 3
   },
   "file_extension": ".py",
   "mimetype": "text/x-python",
   "name": "python",
   "nbconvert_exporter": "python",
   "pygments_lexer": "ipython3",
   "version": "3.11.4"
  }
 },
 "nbformat": 4,
 "nbformat_minor": 5
}
